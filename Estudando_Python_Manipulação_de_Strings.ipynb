{
  "nbformat": 4,
  "nbformat_minor": 0,
  "metadata": {
    "colab": {
      "provenance": []
    },
    "kernelspec": {
      "name": "python3",
      "display_name": "Python 3"
    },
    "language_info": {
      "name": "python"
    }
  },
  "cells": [
    {
      "cell_type": "markdown",
      "metadata": {
        "id": "EpI0T9paHpaD"
      },
      "source": [
        "# **Dicas de manipulação de strings em python**"
      ]
    },
    {
      "cell_type": "markdown",
      "metadata": {
        "id": "aJRziMQ5H2SY"
      },
      "source": [
        "**A string** é uma cadeia de caracteres, podendo eles ser do alfabeto, numéricos, especiais entre outros. Exemplos:\n",
        "\n",
        "*   João da Silva\n",
        "*   Minha_S3nh4!\n",
        "*   Um texto qualquer que possui diversas palavras com letras, números, caracteres especiais e muitos outros bla bla bla etc e tal.\n",
        "\n",
        "O python possui uma classe de string embutida, **str**, com muitos recursos interessantes e que facilitam a vida do programador.\n",
        "\n",
        "Abaixo seguem algumas das muitas funções de python para formatação e maninpulação de strings.\n",
        "\n"
      ]
    },
    {
      "cell_type": "markdown",
      "metadata": {
        "id": "5reFcGKPIpB8"
      },
      "source": [
        "**Conhecendo a string**"
      ]
    },
    {
      "cell_type": "code",
      "metadata": {
        "colab": {
          "base_uri": "https://localhost:8080/"
        },
        "id": "s7SFRbVX1e5m",
        "outputId": "612bf3cd-eae5-4d8c-8465-4ab03ba7b829"
      },
      "source": [
        "x = 'PYTHON - manipulação Strings'\n",
        "print(x)"
      ],
      "execution_count": 1,
      "outputs": [
        {
          "output_type": "stream",
          "name": "stdout",
          "text": [
            "PYTHON - manipulação Strings\n"
          ]
        }
      ]
    },
    {
      "cell_type": "code",
      "metadata": {
        "colab": {
          "base_uri": "https://localhost:8080/"
        },
        "id": "veAZnIIyJFkr",
        "outputId": "52b5d07c-2abc-4d98-b45a-b0e3cb91f3f5"
      },
      "source": [
        "# quantidade de caracteres da string x\n",
        "print(len(x))"
      ],
      "execution_count": 2,
      "outputs": [
        {
          "output_type": "stream",
          "name": "stdout",
          "text": [
            "28\n"
          ]
        }
      ]
    },
    {
      "cell_type": "code",
      "metadata": {
        "colab": {
          "base_uri": "https://localhost:8080/"
        },
        "id": "F4nG_Io6Ixlo",
        "outputId": "f970b9c0-86da-4b50-955e-671b2010df66"
      },
      "source": [
        "# o primeiro caracter da string x\n",
        "print(x[0]) # P"
      ],
      "execution_count": 3,
      "outputs": [
        {
          "output_type": "stream",
          "name": "stdout",
          "text": [
            "P\n"
          ]
        }
      ]
    },
    {
      "cell_type": "code",
      "metadata": {
        "colab": {
          "base_uri": "https://localhost:8080/"
        },
        "id": "1rQLRXeXI4xI",
        "outputId": "5b7c81a3-60af-44fe-8d72-14ea75eab41d"
      },
      "source": [
        "# o último caracter da string x\n",
        "print(x[len(x)-1]) # s"
      ],
      "execution_count": 4,
      "outputs": [
        {
          "output_type": "stream",
          "name": "stdout",
          "text": [
            "s\n"
          ]
        }
      ]
    },
    {
      "cell_type": "code",
      "metadata": {
        "colab": {
          "base_uri": "https://localhost:8080/"
        },
        "id": "cR2zO-WwnbHY",
        "outputId": "f27ec06e-3147-47c4-f1ed-d6b86af1cbb4"
      },
      "source": [
        "# ou imprimir um trecho\n",
        "print(x[2:6]) # da posição 2 a 5 THON"
      ],
      "execution_count": 5,
      "outputs": [
        {
          "output_type": "stream",
          "name": "stdout",
          "text": [
            "THON\n"
          ]
        }
      ]
    },
    {
      "cell_type": "code",
      "metadata": {
        "colab": {
          "base_uri": "https://localhost:8080/"
        },
        "id": "qDriAbvNLw9f",
        "outputId": "f5d4eb46-0e50-4ff9-83ab-d0d9a9147fd8"
      },
      "source": [
        "# varrendo a string posição a posição, até a sexta posição\n",
        "for i in x[:6]: # e imprimindo na vertical\n",
        "  print(i)"
      ],
      "execution_count": 6,
      "outputs": [
        {
          "output_type": "stream",
          "name": "stdout",
          "text": [
            "P\n",
            "Y\n",
            "T\n",
            "H\n",
            "O\n",
            "N\n"
          ]
        }
      ]
    },
    {
      "cell_type": "code",
      "metadata": {
        "colab": {
          "base_uri": "https://localhost:8080/"
        },
        "id": "-kknl9jbMQfL",
        "outputId": "527bdc36-dd60-4a99-adcb-8f7599399c65"
      },
      "source": [
        "print(x[:6]) # na horizontal\n",
        "# ou\n",
        "y = x[:6]\n",
        "print(y)\n",
        "# ou\n",
        "z = \"Eu programo em \" + y\n",
        "print(z)"
      ],
      "execution_count": 7,
      "outputs": [
        {
          "output_type": "stream",
          "name": "stdout",
          "text": [
            "PYTHON\n",
            "PYTHON\n",
            "Eu programo em PYTHON\n"
          ]
        }
      ]
    },
    {
      "cell_type": "markdown",
      "metadata": {
        "id": "ednMmn-dkuSh"
      },
      "source": [
        "**Convertendo outros tipos em string**"
      ]
    },
    {
      "cell_type": "code",
      "metadata": {
        "colab": {
          "base_uri": "https://localhost:8080/"
        },
        "id": "_zGbZa8bkAxZ",
        "outputId": "aef60e02-ef0d-457f-ba1d-148292eb8642"
      },
      "source": [
        "y = 150\n",
        "print(type(y))\n",
        "# vamos converter esse inteiro (y) em string, utilizando str(value)\n",
        "y = str(y)\n",
        "print(type(y))\n",
        "# e imprimir o segundo caracter desta string\n",
        "print(y[1])"
      ],
      "execution_count": 8,
      "outputs": [
        {
          "output_type": "stream",
          "name": "stdout",
          "text": [
            "<class 'int'>\n",
            "<class 'str'>\n",
            "5\n"
          ]
        }
      ]
    },
    {
      "cell_type": "code",
      "metadata": {
        "colab": {
          "base_uri": "https://localhost:8080/"
        },
        "id": "3BiGZ9k3nDjQ",
        "outputId": "f7941d5a-5420-4538-f934-b96d38031f3b"
      },
      "source": [
        "# convertendo float\n",
        "y = 33.345 / 2\n",
        "print(y, type(y))\n",
        "y = str(y)\n",
        "print(y, type(y))\n",
        "print(y[2])"
      ],
      "execution_count": 9,
      "outputs": [
        {
          "output_type": "stream",
          "name": "stdout",
          "text": [
            "16.6725 <class 'float'>\n",
            "16.6725 <class 'str'>\n",
            ".\n"
          ]
        }
      ]
    },
    {
      "cell_type": "code",
      "metadata": {
        "colab": {
          "base_uri": "https://localhost:8080/"
        },
        "id": "Rqeh769yk0MW",
        "outputId": "20bf4dd1-6038-4149-9775-f18e94eb617b"
      },
      "source": [
        "# convertendo lista\n",
        "y = [1, 2, 3, 4, 5, 6]\n",
        "print(y, type(y))\n",
        "y = str(y)\n",
        "print(y, type(y))"
      ],
      "execution_count": 10,
      "outputs": [
        {
          "output_type": "stream",
          "name": "stdout",
          "text": [
            "[1, 2, 3, 4, 5, 6] <class 'list'>\n",
            "[1, 2, 3, 4, 5, 6] <class 'str'>\n"
          ]
        }
      ]
    },
    {
      "cell_type": "code",
      "metadata": {
        "colab": {
          "base_uri": "https://localhost:8080/"
        },
        "id": "FTwADf5YmDqs",
        "outputId": "db1f7a25-2194-4920-b471-fc1ba9d700fa"
      },
      "source": [
        "# convertendo dicionários\n",
        "y = {'nome': 'joao', 'idade': 33}\n",
        "print(y, type(y))\n",
        "\n",
        "y = str(y)\n",
        "print(y, type(y))"
      ],
      "execution_count": 11,
      "outputs": [
        {
          "output_type": "stream",
          "name": "stdout",
          "text": [
            "{'nome': 'joao', 'idade': 33} <class 'dict'>\n",
            "{'nome': 'joao', 'idade': 33} <class 'str'>\n"
          ]
        }
      ]
    },
    {
      "cell_type": "markdown",
      "metadata": {
        "id": "ufxjG5URJUu9"
      },
      "source": [
        "**Formatando a String**"
      ]
    },
    {
      "cell_type": "code",
      "metadata": {
        "colab": {
          "base_uri": "https://localhost:8080/"
        },
        "id": "MVIpTGxLIryE",
        "outputId": "6f095617-63c9-42ad-a71f-43f32cdfe7a1"
      },
      "source": [
        "# formatando uma string em maiúsculo, em minúsculo\n",
        "# e somente o primeiro caracter em maiúsculo\n",
        "print(\"MAIÚSCULA: \",x.upper())\n",
        "print(\"minúscula: \",x.lower())\n",
        "print(\"Primeira maíuscula: \", x.capitalize())"
      ],
      "execution_count": 12,
      "outputs": [
        {
          "output_type": "stream",
          "name": "stdout",
          "text": [
            "MAIÚSCULA:  PYTHON - MANIPULAÇÃO STRINGS\n",
            "minúscula:  python - manipulação strings\n",
            "Primeira maíuscula:  Python - manipulação strings\n"
          ]
        }
      ]
    },
    {
      "cell_type": "code",
      "metadata": {
        "colab": {
          "base_uri": "https://localhost:8080/"
        },
        "id": "0KdkHuXIOrhp",
        "outputId": "2555fc0e-cfb2-4786-be8d-d69afd9c6333"
      },
      "source": [
        "# deixando as iniciais maiúsculas\n",
        "print(x.title())"
      ],
      "execution_count": 13,
      "outputs": [
        {
          "output_type": "stream",
          "name": "stdout",
          "text": [
            "Python - Manipulação Strings\n"
          ]
        }
      ]
    },
    {
      "cell_type": "code",
      "metadata": {
        "colab": {
          "base_uri": "https://localhost:8080/"
        },
        "id": "1I9zX9NaBpSQ",
        "outputId": "c9b78f76-6b1c-4898-e18c-ca1341b26340"
      },
      "source": [
        "# existe também a função casefold, que transforma em minúsculo\n",
        "# parece idêntica mas em alguns idiomas, a função lower não funcionará devidamente\n",
        "print(\"lower    :\", x.lower())\n",
        "print(\"casefold : \", x.casefold())"
      ],
      "execution_count": 14,
      "outputs": [
        {
          "output_type": "stream",
          "name": "stdout",
          "text": [
            "lower    : python - manipulação strings\n",
            "casefold :  python - manipulação strings\n"
          ]
        }
      ]
    },
    {
      "cell_type": "code",
      "metadata": {
        "colab": {
          "base_uri": "https://localhost:8080/"
        },
        "id": "TPbEPS86Drlv",
        "outputId": "20e20c00-8f63-4876-caf8-a582e0e07d96"
      },
      "source": [
        "# Veja a diferença na lingua alemã\n",
        "print(\"lower:\", \"außen\".lower())\n",
        "print(\"casefold\", \"außen\".casefold())"
      ],
      "execution_count": 15,
      "outputs": [
        {
          "output_type": "stream",
          "name": "stdout",
          "text": [
            "lower: außen\n",
            "casefold aussen\n"
          ]
        }
      ]
    },
    {
      "cell_type": "code",
      "metadata": {
        "colab": {
          "base_uri": "https://localhost:8080/"
        },
        "id": "1-dJXxLj-6Yx",
        "outputId": "92433fad-bc96-486a-a155-01b7114ca828"
      },
      "source": [
        "# invertendo maiúsculas e minúsculas\n",
        "print(\"original : \", x)\n",
        "print(\"swapecase: \", x.swapcase())"
      ],
      "execution_count": 16,
      "outputs": [
        {
          "output_type": "stream",
          "name": "stdout",
          "text": [
            "original :  PYTHON - manipulação Strings\n",
            "swapecase:  python - MANIPULAÇÃO sTRINGS\n"
          ]
        }
      ]
    },
    {
      "cell_type": "code",
      "metadata": {
        "colab": {
          "base_uri": "https://localhost:8080/"
        },
        "id": "VkCFW_Bv6k1T",
        "outputId": "c0213d22-2062-44a5-b877-12be837a1a5a"
      },
      "source": [
        "# adicionando caracteres para completar a qtde de caracteres em uma linha\n",
        "a = x.ljust(50,'-')\n",
        "b = x.rjust(50,'-')\n",
        "print(\"A: \", a)\n",
        "print(\"B: \", b)\n",
        "print(\"Qtde de caracteres: \", len(a), len(b))\n"
      ],
      "execution_count": 17,
      "outputs": [
        {
          "output_type": "stream",
          "name": "stdout",
          "text": [
            "A:  PYTHON - manipulação Strings----------------------\n",
            "B:  ----------------------PYTHON - manipulação Strings\n",
            "Qtde de caracteres:  50 50\n"
          ]
        }
      ]
    },
    {
      "cell_type": "code",
      "metadata": {
        "colab": {
          "base_uri": "https://localhost:8080/"
        },
        "id": "xoYKbZFOUs4J",
        "outputId": "95ba0ec1-733c-4c66-c6dd-207169db41f2"
      },
      "source": [
        "# Centralizar uma string em uma quantidade de caracteres\n",
        "print(x.center(50,\"*\"))"
      ],
      "execution_count": 18,
      "outputs": [
        {
          "output_type": "stream",
          "name": "stdout",
          "text": [
            "***********PYTHON - manipulação Strings***********\n"
          ]
        }
      ]
    },
    {
      "cell_type": "code",
      "metadata": {
        "colab": {
          "base_uri": "https://localhost:8080/"
        },
        "id": "MgZ8Gfbe8WAH",
        "outputId": "e046f377-6c60-4ca6-88a3-ac30c6e209ae"
      },
      "source": [
        "# Aqui um exemplo de como desenhar um box screen usando as funções ljust e center\n",
        "print(\"#\".ljust(49,\"=\")+\"#\")\n",
        "print(\"#\"+ x.center(48,\"*\") + \"#\")\n",
        "print(\"#\".ljust(49,\"=\")+\"#\")\n",
        "for i in range(0,8):\n",
        "  print(\"#\".ljust(49,\" \")+\"#\")\n",
        "print(\"#\".ljust(49,\"=\")+\"#\")"
      ],
      "execution_count": 19,
      "outputs": [
        {
          "output_type": "stream",
          "name": "stdout",
          "text": [
            "#================================================#\n",
            "#**********PYTHON - manipulação Strings**********#\n",
            "#================================================#\n",
            "#                                                #\n",
            "#                                                #\n",
            "#                                                #\n",
            "#                                                #\n",
            "#                                                #\n",
            "#                                                #\n",
            "#                                                #\n",
            "#                                                #\n",
            "#================================================#\n"
          ]
        }
      ]
    },
    {
      "cell_type": "code",
      "metadata": {
        "colab": {
          "base_uri": "https://localhost:8080/"
        },
        "id": "Cd7m-vzmA7CY",
        "outputId": "9e49c017-f8be-487c-ecac-e1d5a6101b58"
      },
      "source": [
        "# Uma outra formatação de string é quando queremos totalizar a quantidade\n",
        "# de caracteres atribuindo o caracter 0 a esquerda\n",
        "agua = \"3.50\"\n",
        "vinho = \"22.50\"\n",
        "print(\"Água:  \", agua.zfill(5))\n",
        "print(\"Vinho: \", vinho.zfill(5))"
      ],
      "execution_count": 20,
      "outputs": [
        {
          "output_type": "stream",
          "name": "stdout",
          "text": [
            "Água:   03.50\n",
            "Vinho:  22.50\n"
          ]
        }
      ]
    },
    {
      "cell_type": "code",
      "metadata": {
        "colab": {
          "base_uri": "https://localhost:8080/"
        },
        "id": "gmx2REW9VrDB",
        "outputId": "a213c0f6-3d2a-4104-c351-17b279f16311"
      },
      "source": [
        "# agua e vinho, são strings, não são números\n",
        "# veja abaixo um exemplo com outra string qualquer e preenchendo com 0 a esquerda\n",
        "print(\"texto do lado direito\".zfill(40))"
      ],
      "execution_count": 21,
      "outputs": [
        {
          "output_type": "stream",
          "name": "stdout",
          "text": [
            "0000000000000000000texto do lado direito\n"
          ]
        }
      ]
    },
    {
      "cell_type": "code",
      "metadata": {
        "colab": {
          "base_uri": "https://localhost:8080/"
        },
        "id": "OTPkbPt42iL-",
        "outputId": "13375190-b6a4-41bc-e218-41dffedac715"
      },
      "source": [
        "# Codificar uma string\n",
        "a = \"Texto não codificado\"\n",
        "print(a.encode('utf-8'))"
      ],
      "execution_count": 22,
      "outputs": [
        {
          "output_type": "stream",
          "name": "stdout",
          "text": [
            "b'Texto n\\xc3\\xa3o codificado'\n"
          ]
        }
      ]
    },
    {
      "cell_type": "code",
      "metadata": {
        "colab": {
          "base_uri": "https://localhost:8080/"
        },
        "id": "uTVbcgpxXtY4",
        "outputId": "b04a2a0c-9703-4469-f170-6d65fc9882bd"
      },
      "source": [
        "print(a.encode('ascii', 'ignore')) # ignorando o encoding\n",
        "print(a.encode('ascii', 'replace')) # substituindo por ?"
      ],
      "execution_count": 23,
      "outputs": [
        {
          "output_type": "stream",
          "name": "stdout",
          "text": [
            "b'Texto no codificado'\n",
            "b'Texto n?o codificado'\n"
          ]
        }
      ]
    },
    {
      "cell_type": "markdown",
      "metadata": {
        "id": "MOYbfAJqYlS3"
      },
      "source": [
        "**Manipulando a string**"
      ]
    },
    {
      "cell_type": "code",
      "metadata": {
        "colab": {
          "base_uri": "https://localhost:8080/"
        },
        "id": "cY7hfBjVYnh1",
        "outputId": "528c2496-098c-4105-c9ff-1257374ea001"
      },
      "source": [
        "print(x)"
      ],
      "execution_count": 24,
      "outputs": [
        {
          "output_type": "stream",
          "name": "stdout",
          "text": [
            "PYTHON - manipulação Strings\n"
          ]
        }
      ]
    },
    {
      "cell_type": "code",
      "metadata": {
        "colab": {
          "base_uri": "https://localhost:8080/"
        },
        "id": "ImEU9xMD-dXr",
        "outputId": "905e4a87-84e5-4416-cbe6-b1a86680031b"
      },
      "source": [
        "# uma forma de inserir valores em uma string\n",
        "a = 'ano'\n",
        "b = 'complicado'\n",
        "print('Este {} foi {}'.format(a, b))\n",
        "# ou também desta forma\n",
        "print(f'Este {a} foi {b}')"
      ],
      "execution_count": 25,
      "outputs": [
        {
          "output_type": "stream",
          "name": "stdout",
          "text": [
            "Este ano foi complicado\n",
            "Este ano foi complicado\n"
          ]
        }
      ]
    },
    {
      "cell_type": "code",
      "metadata": {
        "colab": {
          "base_uri": "https://localhost:8080/"
        },
        "id": "kF27RImybj-p",
        "outputId": "0ba62060-dcfc-43be-a891-1dd01ef99e04"
      },
      "source": [
        "# utilizando dicionário para preencher uma string\n",
        "dicionario = {\"a\": \"Italo\", \"b\": \"Marcelo\"}\n",
        "print(\"Meu nome é {a} {b}\".format_map(dicionario))\n",
        "\n",
        "# ou utilizando uma lista\n",
        "lista = ['Italo', 'Marcelo']\n",
        "print(f'Meu nome é {lista[0]} {lista[1]}')"
      ],
      "execution_count": 26,
      "outputs": [
        {
          "output_type": "stream",
          "name": "stdout",
          "text": [
            "Meu nome é Italo Marcelo\n",
            "Meu nome é Italo Marcelo\n"
          ]
        }
      ]
    },
    {
      "cell_type": "code",
      "metadata": {
        "colab": {
          "base_uri": "https://localhost:8080/"
        },
        "id": "0qHiaEx4EPJ6",
        "outputId": "5e96bc44-6473-462c-b036-c9d08db4dbec"
      },
      "source": [
        "# dividir uma string na primeira ocorrência de um caracter ou string\n",
        "print(x.partition(\"-\"))\n",
        "print(x.rpartition(\"manipulação\"))"
      ],
      "execution_count": 27,
      "outputs": [
        {
          "output_type": "stream",
          "name": "stdout",
          "text": [
            "('PYTHON ', '-', ' manipulação Strings')\n",
            "('PYTHON - ', 'manipulação', ' Strings')\n"
          ]
        }
      ]
    },
    {
      "cell_type": "code",
      "metadata": {
        "colab": {
          "base_uri": "https://localhost:8080/"
        },
        "id": "Rw7DeaB4GpuN",
        "outputId": "70277b12-7b12-4f0e-b980-2fb7912fc066"
      },
      "source": [
        "# dividir uma string em todas as ocorrências de um caracter ou string\n",
        "# e retorna uma lista\n",
        "print(x.split(\" \"))\n",
        "print(x.rsplit(\"-\"))"
      ],
      "execution_count": 28,
      "outputs": [
        {
          "output_type": "stream",
          "name": "stdout",
          "text": [
            "['PYTHON', '-', 'manipulação', 'Strings']\n",
            "['PYTHON ', ' manipulação Strings']\n"
          ]
        }
      ]
    },
    {
      "cell_type": "code",
      "metadata": {
        "colab": {
          "base_uri": "https://localhost:8080/"
        },
        "id": "2z8XVbZuYqPL",
        "outputId": "36b7a445-0e61-4f2c-9229-184582380b49"
      },
      "source": [
        "# dividir uma string a partir de ocorrências de um caracter ou string,\n",
        "# da direita p/ esquerda e retorna uma lista\n",
        "a = \"1: 2: 3: 4: 5:\"\n",
        "print(a.rsplit(\":\", 2))"
      ],
      "execution_count": 29,
      "outputs": [
        {
          "output_type": "stream",
          "name": "stdout",
          "text": [
            "['1: 2: 3: 4', ' 5', '']\n"
          ]
        }
      ]
    },
    {
      "cell_type": "code",
      "metadata": {
        "colab": {
          "base_uri": "https://localhost:8080/"
        },
        "id": "dP1WhXOccdeF",
        "outputId": "731a465e-b0e0-4b2c-9375-40de94065cfc"
      },
      "source": [
        "# splitline retorna uma lista como se fosse um str.split('\\n')\n",
        "texto = \"linha 1 do texto\\nlinha 2 do texto \\nlinha 3 do texto \\nlinha 4 do texto\"\n",
        "print(texto)\n",
        "print(texto.splitlines())\n",
        "print(texto.split('\\n'))"
      ],
      "execution_count": 30,
      "outputs": [
        {
          "output_type": "stream",
          "name": "stdout",
          "text": [
            "linha 1 do texto\n",
            "linha 2 do texto \n",
            "linha 3 do texto \n",
            "linha 4 do texto\n",
            "['linha 1 do texto', 'linha 2 do texto ', 'linha 3 do texto ', 'linha 4 do texto']\n",
            "['linha 1 do texto', 'linha 2 do texto ', 'linha 3 do texto ', 'linha 4 do texto']\n"
          ]
        }
      ]
    },
    {
      "cell_type": "code",
      "metadata": {
        "colab": {
          "base_uri": "https://localhost:8080/"
        },
        "id": "sCdoUWV7oHcz",
        "outputId": "3e85f030-fb09-44b6-ac57-f1659e1be3eb"
      },
      "source": [
        "# já o comando join faz o contrário do comando split\n",
        "y = \"ABC\"\n",
        "print('-'.join(y))\n",
        "y = \"homem aranha 2\"\n",
        "z = y.split(' ')\n",
        "print(z)\n",
        "# agora vamos tranformar o valor de z como o valor de y\n",
        "z = ' '.join(z)\n",
        "print(z, y)"
      ],
      "execution_count": 31,
      "outputs": [
        {
          "output_type": "stream",
          "name": "stdout",
          "text": [
            "A-B-C\n",
            "['homem', 'aranha', '2']\n",
            "homem aranha 2 homem aranha 2\n"
          ]
        }
      ]
    },
    {
      "cell_type": "code",
      "metadata": {
        "colab": {
          "base_uri": "https://localhost:8080/"
        },
        "id": "OX9x4fx9dYN0",
        "outputId": "09be0068-404c-49c7-87a4-320edd12dae7"
      },
      "source": [
        "# Localizar uma string retornando a posição\n",
        "a = \"Joao da Silva\"\n",
        "print(a.find('da'))"
      ],
      "execution_count": 32,
      "outputs": [
        {
          "output_type": "stream",
          "name": "stdout",
          "text": [
            "5\n"
          ]
        }
      ]
    },
    {
      "cell_type": "code",
      "metadata": {
        "colab": {
          "base_uri": "https://localhost:8080/"
        },
        "id": "3LOMhTNge_76",
        "outputId": "f6515ee0-5095-48a5-e18f-08d6faa38c71"
      },
      "source": [
        "# Localizar um caracter na string retornando a quantidade\n",
        "a = \"Joao da Silva\"\n",
        "print(a.count('a'))"
      ],
      "execution_count": 33,
      "outputs": [
        {
          "output_type": "stream",
          "name": "stdout",
          "text": [
            "3\n"
          ]
        }
      ]
    },
    {
      "cell_type": "code",
      "metadata": {
        "colab": {
          "base_uri": "https://localhost:8080/"
        },
        "id": "SENioQDdfOE8",
        "outputId": "a093fc1c-96b4-40a5-baf6-9f6dbd2c6d4c"
      },
      "source": [
        "# utilizando tabuladores de string\n",
        "a = \"eu \\testou \\taprendendo \\tmanipular \\tpython\"\n",
        "print(a)\n",
        "print(a.expandtabs(8)) # com a mesmo espaço de tabulação\n",
        "print(a.expandtabs(18)) # com espaçamento de 18 caracteres de tabulação"
      ],
      "execution_count": 34,
      "outputs": [
        {
          "output_type": "stream",
          "name": "stdout",
          "text": [
            "eu \testou \taprendendo \tmanipular \tpython\n",
            "eu      estou   aprendendo      manipular       python\n",
            "eu                estou             aprendendo        manipular         python\n"
          ]
        }
      ]
    },
    {
      "cell_type": "markdown",
      "metadata": {
        "id": "XhK5YLpCQb1z"
      },
      "source": [
        "**Verificações**\n",
        "\n",
        "Existem diversas funções de string que validam diversas condições, retornando True ou False como resultado. Vejamos algumas delas:"
      ]
    },
    {
      "cell_type": "code",
      "metadata": {
        "colab": {
          "base_uri": "https://localhost:8080/"
        },
        "id": "fCxL6haU6PKm",
        "outputId": "42ab64e4-af75-4b06-c00f-b7575c4f6fb5"
      },
      "source": [
        "# verifica se a string possui todas as iniciais em maiúsculas\n",
        "txt = 'Italo Marcelo'\n",
        "print(txt.istitle()) # retorna True\n",
        "if txt.istitle(): # se True\n",
        "  print('As letras iniciais estão em maiúsculas')\n",
        "else:\n",
        "  print('As letras iniciais não estão em maiúsculas')"
      ],
      "execution_count": 35,
      "outputs": [
        {
          "output_type": "stream",
          "name": "stdout",
          "text": [
            "True\n",
            "As letras iniciais estão em maiúsculas\n"
          ]
        }
      ]
    },
    {
      "cell_type": "code",
      "metadata": {
        "colab": {
          "base_uri": "https://localhost:8080/"
        },
        "id": "fVJeiQOuUDTQ",
        "outputId": "2a31fd04-6819-4182-8e07-1136c38ffb21"
      },
      "source": [
        "# verifica se o caracter ou a string está em maiúsculo\n",
        "print(\"Italo\".isupper())\n",
        "print(\"ITALO\".isupper())"
      ],
      "execution_count": 36,
      "outputs": [
        {
          "output_type": "stream",
          "name": "stdout",
          "text": [
            "False\n",
            "True\n"
          ]
        }
      ]
    },
    {
      "cell_type": "code",
      "metadata": {
        "colab": {
          "base_uri": "https://localhost:8080/"
        },
        "id": "kOgDczgMUSKo",
        "outputId": "893d004b-cb0d-4a07-fb3e-7f0186103d63"
      },
      "source": [
        "# verifica se o caracter ou a string está em minúsculo\n",
        "print(\"Italo\".islower())\n",
        "print(\"ITALO\".islower())"
      ],
      "execution_count": 37,
      "outputs": [
        {
          "output_type": "stream",
          "name": "stdout",
          "text": [
            "False\n",
            "False\n"
          ]
        }
      ]
    },
    {
      "cell_type": "code",
      "metadata": {
        "colab": {
          "base_uri": "https://localhost:8080/"
        },
        "id": "s1oWH-KOEISu",
        "outputId": "af1979d3-38d3-4b5e-920c-ffcd3bb5b329"
      },
      "source": [
        "# verifica se o caracter ou a string é toda numérica\n",
        "\"14\".isnumeric(), \"F14\".isnumeric()"
      ],
      "execution_count": 38,
      "outputs": [
        {
          "output_type": "execute_result",
          "data": {
            "text/plain": [
              "(True, False)"
            ]
          },
          "metadata": {},
          "execution_count": 38
        }
      ]
    },
    {
      "cell_type": "code",
      "metadata": {
        "colab": {
          "base_uri": "https://localhost:8080/"
        },
        "id": "CD7Oa6cAFahh",
        "outputId": "f682f23c-59b8-4f0c-f350-e647ee08af1b"
      },
      "source": [
        "# verifica se o caracter ou a string contém somente dígitos\n",
        "\"14\".isdigit(), \"F14\".isdigit()"
      ],
      "execution_count": 39,
      "outputs": [
        {
          "output_type": "execute_result",
          "data": {
            "text/plain": [
              "(True, False)"
            ]
          },
          "metadata": {},
          "execution_count": 39
        }
      ]
    },
    {
      "cell_type": "code",
      "metadata": {
        "colab": {
          "base_uri": "https://localhost:8080/"
        },
        "id": "4zJqwDKFEnjF",
        "outputId": "e4a02d10-be22-4ed3-bfc4-aa807e4781d6"
      },
      "source": [
        "# verifica se o caracter ou a string contém alfanuméricos\n",
        "\"ano2021\".isalnum(), \"ano\".isnumeric(), \"2021\".isalnum(), \"ano 2021\".isdecimal()"
      ],
      "execution_count": 40,
      "outputs": [
        {
          "output_type": "execute_result",
          "data": {
            "text/plain": [
              "(True, False, True, False)"
            ]
          },
          "metadata": {},
          "execution_count": 40
        }
      ]
    },
    {
      "cell_type": "code",
      "metadata": {
        "colab": {
          "base_uri": "https://localhost:8080/"
        },
        "id": "iLg0_E4P4LkK",
        "outputId": "9923d04e-42f5-4ccb-aa10-ffea873f403e"
      },
      "source": [
        "# verifica se a string contém somente letras do alfabeto\n",
        "\"senha\".isalpha(), \"senha13\".isalpha()"
      ],
      "execution_count": 41,
      "outputs": [
        {
          "output_type": "execute_result",
          "data": {
            "text/plain": [
              "(True, False)"
            ]
          },
          "metadata": {},
          "execution_count": 41
        }
      ]
    },
    {
      "cell_type": "code",
      "metadata": {
        "colab": {
          "base_uri": "https://localhost:8080/"
        },
        "id": "eUIZrswV4g1F",
        "outputId": "dbe037ee-ff0d-480d-9e54-7f9fba25b319"
      },
      "source": [
        "# verifica se a string possui caracteres válidos para escrever um código identificador\n",
        "\"meuID\".isidentifier(), \"meuID_\".isidentifier(), \"13meuID\".isidentifier(), \"_13meuID\".isidentifier()"
      ],
      "execution_count": 42,
      "outputs": [
        {
          "output_type": "execute_result",
          "data": {
            "text/plain": [
              "(True, True, False, True)"
            ]
          },
          "metadata": {},
          "execution_count": 42
        }
      ]
    },
    {
      "cell_type": "code",
      "metadata": {
        "colab": {
          "base_uri": "https://localhost:8080/"
        },
        "id": "f70fbX486AgV",
        "outputId": "dc94a8d9-541a-4f01-c2a1-df7fbd6bd2ec"
      },
      "source": [
        "# verifica se o caracter ou string é de espaço em branco\n",
        "print(\"  \".isspace())\n",
        "# ou\n",
        "for i in \"sou eu\":\n",
        "  print(i, i.isspace())"
      ],
      "execution_count": 43,
      "outputs": [
        {
          "output_type": "stream",
          "name": "stdout",
          "text": [
            "True\n",
            "s False\n",
            "o False\n",
            "u False\n",
            "  True\n",
            "e False\n",
            "u False\n"
          ]
        }
      ]
    },
    {
      "cell_type": "code",
      "metadata": {
        "colab": {
          "base_uri": "https://localhost:8080/"
        },
        "id": "CL3L33kDdxht",
        "outputId": "8102de0c-3ebd-49dc-a77a-74ab9f0b3d8b"
      },
      "source": [
        "# verifica se a string inicia com uma substring qualquer\n",
        "print(x) # PYTHON - manipulação Strings\n",
        "print(x.startswith('Python')) # não inicia com Python\n",
        "print(x.startswith('PYTHON')) # inicia com PYTHON"
      ],
      "execution_count": 44,
      "outputs": [
        {
          "output_type": "stream",
          "name": "stdout",
          "text": [
            "PYTHON - manipulação Strings\n",
            "False\n",
            "True\n"
          ]
        }
      ]
    },
    {
      "cell_type": "code",
      "metadata": {
        "colab": {
          "base_uri": "https://localhost:8080/"
        },
        "id": "8G82hUrTZZKl",
        "outputId": "71cf5d3b-e39d-4bda-8288-66290f6d9d75"
      },
      "source": [
        "# verifica se a string termina com uma substring qualquer\n",
        "print(x) # PYTHON - manipulação Strings\n",
        "print(x.endswith('strings')) # não termina com strings\n",
        "print(x.endswith('Strings')) # termina com Strings"
      ],
      "execution_count": 45,
      "outputs": [
        {
          "output_type": "stream",
          "name": "stdout",
          "text": [
            "PYTHON - manipulação Strings\n",
            "False\n",
            "True\n"
          ]
        }
      ]
    },
    {
      "cell_type": "code",
      "metadata": {
        "colab": {
          "base_uri": "https://localhost:8080/"
        },
        "id": "lgQznvfSZ2B9",
        "outputId": "79ae8233-a5e0-47e3-c143-29093e1251a6"
      },
      "source": [
        "senha = \"minhaSenha1_\"\n",
        "print(senha.isascii())\n",
        "senha2 = \"minhaçenha1_\"\n",
        "print(senha2.isascii()) # ç não está na tabela ascii"
      ],
      "execution_count": 46,
      "outputs": [
        {
          "output_type": "stream",
          "name": "stdout",
          "text": [
            "True\n",
            "False\n"
          ]
        }
      ]
    }
  ]
}