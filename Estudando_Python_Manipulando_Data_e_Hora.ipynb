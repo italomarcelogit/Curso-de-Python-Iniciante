{
  "nbformat": 4,
  "nbformat_minor": 0,
  "metadata": {
    "colab": {
      "provenance": []
    },
    "kernelspec": {
      "name": "python3",
      "display_name": "Python 3"
    },
    "language_info": {
      "name": "python"
    }
  },
  "cells": [
    {
      "cell_type": "code",
      "execution_count": 1,
      "metadata": {
        "colab": {
          "base_uri": "https://localhost:8080/"
        },
        "id": "CkDhomlL9e-d",
        "outputId": "1086c36c-e6fe-404d-a259-2b6962ae3032"
      },
      "outputs": [
        {
          "output_type": "stream",
          "name": "stdout",
          "text": [
            "2023-07-16 20:37:16.977851\n"
          ]
        }
      ],
      "source": [
        "# data e hora corrente\n",
        "import datetime\n",
        "\n",
        "agora = datetime.datetime.now()\n",
        "print(agora)"
      ]
    },
    {
      "cell_type": "code",
      "source": [
        "# data corrente\n",
        "import datetime\n",
        "data_atual = datetime.date.today()\n",
        "print(data_atual)"
      ],
      "metadata": {
        "colab": {
          "base_uri": "https://localhost:8080/"
        },
        "id": "cojVGMv79zyA",
        "outputId": "31cebee4-52b1-4b26-c353-db40d4d3ab1b"
      },
      "execution_count": 2,
      "outputs": [
        {
          "output_type": "stream",
          "name": "stdout",
          "text": [
            "2023-07-16\n"
          ]
        }
      ]
    },
    {
      "cell_type": "code",
      "source": [
        "# criar uma variável do tipo datetime.date [data]\n",
        "import datetime\n",
        "data = datetime.date(2023, 7, 16)\n",
        "print(data), type(data)"
      ],
      "metadata": {
        "colab": {
          "base_uri": "https://localhost:8080/"
        },
        "id": "OKKlYYtX-NSj",
        "outputId": "dec7efb1-d6be-4bf3-87be-01ef6122ae32"
      },
      "execution_count": 3,
      "outputs": [
        {
          "output_type": "stream",
          "name": "stdout",
          "text": [
            "2023-07-16\n"
          ]
        },
        {
          "output_type": "execute_result",
          "data": {
            "text/plain": [
              "(None, datetime.date)"
            ]
          },
          "metadata": {},
          "execution_count": 3
        }
      ]
    },
    {
      "cell_type": "code",
      "source": [
        "# outra forma de importar biblioteca\n",
        "from datetime import date\n",
        "\n",
        "data = date(2022, 3, 20)\n",
        "print(data)"
      ],
      "metadata": {
        "colab": {
          "base_uri": "https://localhost:8080/"
        },
        "id": "QI7lFc5c-hEU",
        "outputId": "5a0386ad-de56-4568-f08f-3a65cbc1bd08"
      },
      "execution_count": 4,
      "outputs": [
        {
          "output_type": "stream",
          "name": "stdout",
          "text": [
            "2022-03-20\n"
          ]
        }
      ]
    },
    {
      "cell_type": "code",
      "source": [
        "# exibir a data de hoje com a função today e exibir o ano, mes, dia desta data\n",
        "from datetime import date\n",
        "\n",
        "hoje = date.today()\n",
        "print(\"Hoje\", hoje)\n",
        "data = date.today()\n",
        "\n",
        "print(\"Ano atual:\", data.year)\n",
        "print(\"Mês atual:\", data.month)\n",
        "print(\"Dia atual:\", data.day)"
      ],
      "metadata": {
        "colab": {
          "base_uri": "https://localhost:8080/"
        },
        "id": "ib0WyILw_P0y",
        "outputId": "d1d0a015-a46a-4c2a-ba5a-fb4336dc65ac"
      },
      "execution_count": 5,
      "outputs": [
        {
          "output_type": "stream",
          "name": "stdout",
          "text": [
            "Hoje 2023-07-16\n",
            "Ano atual: 2023\n",
            "Mês atual: 7\n",
            "Dia atual: 16\n"
          ]
        }
      ]
    },
    {
      "cell_type": "code",
      "source": [
        "# criar uma variável do tipo datetime\n",
        "from datetime import datetime\n",
        "\n",
        "# datetime(ano, mês, dia)\n",
        "a = datetime(2023, 7, 16)\n",
        "print(a)\n",
        "print(type(a))\n",
        "\n",
        "# datetime(ano, mês, dia, hora, minuto, segundo, microsegundo)\n",
        "b = datetime(2023, 7, 16, 12, 30, 30, 100000)\n",
        "print(b)\n",
        "print(type(b))"
      ],
      "metadata": {
        "colab": {
          "base_uri": "https://localhost:8080/"
        },
        "id": "lGj8tx7HFBQa",
        "outputId": "ff2423fc-a864-462c-8eff-7d1cca1f1122"
      },
      "execution_count": 6,
      "outputs": [
        {
          "output_type": "stream",
          "name": "stdout",
          "text": [
            "2023-07-16 00:00:00\n",
            "<class 'datetime.datetime'>\n",
            "2023-07-16 12:30:30.100000\n",
            "<class 'datetime.datetime'>\n"
          ]
        }
      ]
    },
    {
      "cell_type": "code",
      "source": [
        "print(\"Ano =\", b.year)\n",
        "print(\"Mês =\", b.month)\n",
        "print(\"Hora =\", b.hour)\n",
        "print(\"Minuto =\", b.minute)\n",
        "print(\"Timestamp =\", b.timestamp())"
      ],
      "metadata": {
        "colab": {
          "base_uri": "https://localhost:8080/"
        },
        "id": "B0_eZkZ-FRTb",
        "outputId": "759333e7-1294-4ad2-ca0c-bf7a97ef1a46"
      },
      "execution_count": 7,
      "outputs": [
        {
          "output_type": "stream",
          "name": "stdout",
          "text": [
            "Ano = 2023\n",
            "Mês = 7\n",
            "Hora = 12\n",
            "Minuto = 30\n",
            "Timestamp = 1689510630.1\n"
          ]
        }
      ]
    },
    {
      "cell_type": "code",
      "source": [
        "b.timetuple()"
      ],
      "metadata": {
        "colab": {
          "base_uri": "https://localhost:8080/"
        },
        "id": "nzk7SyYOFiqO",
        "outputId": "5f71db79-f265-4660-a66c-3e01f0359d25"
      },
      "execution_count": 8,
      "outputs": [
        {
          "output_type": "execute_result",
          "data": {
            "text/plain": [
              "time.struct_time(tm_year=2023, tm_mon=7, tm_mday=16, tm_hour=12, tm_min=30, tm_sec=30, tm_wday=6, tm_yday=197, tm_isdst=-1)"
            ]
          },
          "metadata": {},
          "execution_count": 8
        }
      ]
    },
    {
      "cell_type": "code",
      "source": [
        "from datetime import datetime\n",
        "agora = datetime.now()\n",
        "agora_hora = agora.time()\n",
        "print(agora)\n",
        "print(agora_hora)"
      ],
      "metadata": {
        "colab": {
          "base_uri": "https://localhost:8080/"
        },
        "id": "UljS9VwUJVn8",
        "outputId": "e49e63e3-5412-4f54-baae-9f12eb0d66fc"
      },
      "execution_count": 9,
      "outputs": [
        {
          "output_type": "stream",
          "name": "stdout",
          "text": [
            "2023-07-16 20:37:17.676674\n",
            "20:37:17.676674\n"
          ]
        }
      ]
    },
    {
      "cell_type": "code",
      "source": [
        "import time\n",
        "t=time.localtime()\n",
        "horario = time.strftime(\"%H:%M:%S\", t)\n",
        "print(horario)"
      ],
      "metadata": {
        "colab": {
          "base_uri": "https://localhost:8080/"
        },
        "id": "zs8cUhALByWo",
        "outputId": "63710f15-2d5d-4550-fe83-9d9d57d24123"
      },
      "execution_count": 10,
      "outputs": [
        {
          "output_type": "stream",
          "name": "stdout",
          "text": [
            "20:37:17\n"
          ]
        }
      ]
    },
    {
      "cell_type": "code",
      "source": [
        "import time\n",
        "t=time.localtime()\n",
        "hora = time.strftime(\"%H\", t)\n",
        "print(hora)"
      ],
      "metadata": {
        "colab": {
          "base_uri": "https://localhost:8080/"
        },
        "id": "ae_XuNf7DR3m",
        "outputId": "38d44752-5c55-43bf-8a8b-d579a6fe9691"
      },
      "execution_count": 11,
      "outputs": [
        {
          "output_type": "stream",
          "name": "stdout",
          "text": [
            "20\n"
          ]
        }
      ]
    },
    {
      "cell_type": "code",
      "source": [
        "from datetime import time\n",
        "\n",
        "a = time(12, 30, 0)\n",
        "\n",
        "print(\"Hora =\", a.hour)\n",
        "print(\"Minuto =\", a.minute)\n",
        "print(\"Segundo =\", a.second)\n",
        "print(\"Microssegundo =\", a.microsecond)"
      ],
      "metadata": {
        "colab": {
          "base_uri": "https://localhost:8080/"
        },
        "id": "a29Cm5YXEv5s",
        "outputId": "96b90c15-e7e7-46f9-c88e-1e65bf7ab2b1"
      },
      "execution_count": 12,
      "outputs": [
        {
          "output_type": "stream",
          "name": "stdout",
          "text": [
            "Hora = 12\n",
            "Minuto = 30\n",
            "Segundo = 0\n",
            "Microssegundo = 0\n"
          ]
        }
      ]
    },
    {
      "cell_type": "code",
      "source": [
        "from datetime import time\n",
        "\n",
        "# time(hora=0, minuto=0, segundo=0)\n",
        "a = time()\n",
        "print(\"a =\", a)\n",
        "\n",
        "# time(hora, minuto e segundo)\n",
        "b = time(20, 30, 0)\n",
        "print(\"b =\", b)\n",
        "\n",
        "# time(hora, minuto e segundo)\n",
        "c = time(hour=21, minute=31, second=11)\n",
        "print(\"c =\", c)\n",
        "\n",
        "# time(hora, minuto, segundo e microsegundo)\n",
        "d = time(21, 31, 1, 123640)\n",
        "print(\"d =\", d)"
      ],
      "metadata": {
        "colab": {
          "base_uri": "https://localhost:8080/"
        },
        "id": "M-xiZ9rvBmMg",
        "outputId": "9c4fca45-4e21-4141-c843-c82b07e087a1"
      },
      "execution_count": 13,
      "outputs": [
        {
          "output_type": "stream",
          "name": "stdout",
          "text": [
            "a = 00:00:00\n",
            "b = 20:30:00\n",
            "c = 21:31:11\n",
            "d = 21:31:01.123640\n"
          ]
        }
      ]
    },
    {
      "cell_type": "code",
      "source": [
        "from datetime import *  # import datetime\n",
        "from dateutil.relativedelta import * # from dateutil import relativedelta\n",
        "agora = datetime.now()\n",
        "print(\"Agora\", agora)\n",
        "\n",
        "futuro = agora + relativedelta(months=2, weeks=0, hour=0)\n",
        "passado = agora - relativedelta(months=2, weeks=0, hour=0)\n",
        "\n",
        "print(\"Daquia 2 meses\", futuro)\n",
        "print(\"A 2 meses atras\", passado)"
      ],
      "metadata": {
        "colab": {
          "base_uri": "https://localhost:8080/"
        },
        "id": "YaY0gp_NBJoO",
        "outputId": "034c1f41-b147-42a0-c309-24abbec6e8b5"
      },
      "execution_count": 14,
      "outputs": [
        {
          "output_type": "stream",
          "name": "stdout",
          "text": [
            "Agora 2023-07-16 20:37:17.754187\n",
            "Daquia 2 meses 2023-09-16 00:37:17.754187\n",
            "A 2 meses atras 2023-05-16 00:37:17.754187\n"
          ]
        }
      ]
    },
    {
      "cell_type": "code",
      "source": [
        "from datetime import datetime, timedelta\n",
        "\n",
        "hoje = datetime.today()\n",
        "passado = hoje - timedelta(days=2, hours=0, minutes=0, seconds=0)\n",
        "print(passado)"
      ],
      "metadata": {
        "colab": {
          "base_uri": "https://localhost:8080/"
        },
        "id": "GN284wRPE9HO",
        "outputId": "07a1dc15-0fc2-4b25-ecf1-31ef9181206e"
      },
      "execution_count": 15,
      "outputs": [
        {
          "output_type": "stream",
          "name": "stdout",
          "text": [
            "2023-07-14 20:37:17.770957\n"
          ]
        }
      ]
    }
  ]
}