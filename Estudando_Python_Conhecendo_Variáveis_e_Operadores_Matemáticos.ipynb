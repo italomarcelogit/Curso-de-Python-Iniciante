{
  "nbformat": 4,
  "nbformat_minor": 0,
  "metadata": {
    "colab": {
      "provenance": []
    },
    "kernelspec": {
      "name": "python3",
      "display_name": "Python 3"
    },
    "language_info": {
      "name": "python"
    }
  },
  "cells": [
    {
      "cell_type": "markdown",
      "source": [
        "# Variáveis\n",
        "\n",
        "1. Variável é quando associamos um nome a algum valor. O nome da variável pode ser composto por letras(minúsculas e maiúsculas), números e o caractere underline _\n",
        "\n",
        "2. Utilize o sinal de = (igual) para associal um valor a uma variável\n",
        "\n",
        "3. Para exibir uma variável utilize a função print(variavel)\n",
        "\n",
        "4. Não utilize palavras reservadas para dar nome a uma variável. São elas: *False, None, True, and, as, assert, async, await, break, class, continue, def, del, elif, else, except, finally, for, from, global, if, import, in, is, lambda, nonlocal, not, or, pass, raise, return, try, while, with, yield.*\n",
        "\n",
        "5. Os tipos de variáveis são:\n",
        "  * int\n",
        "  * float\n",
        "  * string\n",
        "  * boolean\n",
        "  * list\n",
        "  * tuple\n",
        "  * set\n",
        "  * dictionary"
      ],
      "metadata": {
        "id": "xPf3gBw6TcTz"
      }
    },
    {
      "cell_type": "code",
      "source": [
        "# nomeando variáveis\n",
        "var = 1\n",
        "Var = 1\n",
        "VAR = 1\n",
        "_var_ = 1"
      ],
      "metadata": {
        "id": "0fdkHCiWUeLb"
      },
      "execution_count": 1,
      "outputs": []
    },
    {
      "cell_type": "code",
      "source": [
        "# atribuindo valor a variável e exibindo o valor com o comando print()\n",
        "a = 1\n",
        "b = 1.2\n",
        "c = \"nome\"\n",
        "print(a, b, c)\n",
        "\n",
        "a, b, c = 1, 1.2, \"nome\"\n",
        "print(a, b, c)"
      ],
      "metadata": {
        "colab": {
          "base_uri": "https://localhost:8080/"
        },
        "id": "LYG7XezuUyxc",
        "outputId": "64da2e6f-db4d-4342-91c9-2f4746f5fb01"
      },
      "execution_count": 2,
      "outputs": [
        {
          "output_type": "stream",
          "name": "stdout",
          "text": [
            "1 1.2 nome\n",
            "1 1.2 nome\n"
          ]
        }
      ]
    },
    {
      "cell_type": "code",
      "source": [
        "# variável do tipo inteiro (integer)\n",
        "var = 1\n",
        "print(type(var))"
      ],
      "metadata": {
        "colab": {
          "base_uri": "https://localhost:8080/"
        },
        "id": "1G4qoZ1JRGSW",
        "outputId": "00a9c699-2ea9-41ed-b2ef-5b1beabee44f"
      },
      "execution_count": 3,
      "outputs": [
        {
          "output_type": "stream",
          "name": "stdout",
          "text": [
            "<class 'int'>\n"
          ]
        }
      ]
    },
    {
      "cell_type": "code",
      "source": [
        "# variável do tipo decimal (float)\n",
        "var = 1.2\n",
        "print(type(var))"
      ],
      "metadata": {
        "colab": {
          "base_uri": "https://localhost:8080/"
        },
        "id": "LtK5QsQMT2Ja",
        "outputId": "e4c035ad-40c8-49ab-aa39-73e7ae2a8aba"
      },
      "execution_count": 4,
      "outputs": [
        {
          "output_type": "stream",
          "name": "stdout",
          "text": [
            "<class 'float'>\n"
          ]
        }
      ]
    },
    {
      "cell_type": "code",
      "source": [
        "# variável do tipo texto (string)\n",
        "var = \"1.2\"\n",
        "print(type(var))"
      ],
      "metadata": {
        "colab": {
          "base_uri": "https://localhost:8080/"
        },
        "id": "ywd4knxRT9UV",
        "outputId": "13f40212-5432-4c4d-a164-ff766e93a31c"
      },
      "execution_count": 5,
      "outputs": [
        {
          "output_type": "stream",
          "name": "stdout",
          "text": [
            "<class 'str'>\n"
          ]
        }
      ]
    },
    {
      "cell_type": "code",
      "source": [
        "# variável do tipo boleano (bool)\n",
        "var = False # True\n",
        "print(type(var))"
      ],
      "metadata": {
        "colab": {
          "base_uri": "https://localhost:8080/"
        },
        "id": "wcuNh8GnUAKw",
        "outputId": "9afd70cd-8ee0-40de-e521-d1bde5d6ca3d"
      },
      "execution_count": 6,
      "outputs": [
        {
          "output_type": "stream",
          "name": "stdout",
          "text": [
            "<class 'bool'>\n"
          ]
        }
      ]
    },
    {
      "cell_type": "code",
      "source": [
        "# variável do tipo lista (list)\n",
        "var = ['nome1', 'nome2', 1, 1.2, True]\n",
        "print(type(var))\n",
        "print(var)\n",
        "\n",
        "var[1]=\"outro nome\"\n",
        "print(var)\n",
        "\n",
        "var.append(4567)\n",
        "print(var)\n",
        "\n",
        "var.remove(1.2)\n",
        "print(var)\n",
        "\n",
        "var.pop(3)\n",
        "print(var)\n"
      ],
      "metadata": {
        "colab": {
          "base_uri": "https://localhost:8080/"
        },
        "id": "b4gE05qqV798",
        "outputId": "4da75d9f-a78c-4b44-a3d0-f5890477d538"
      },
      "execution_count": 7,
      "outputs": [
        {
          "output_type": "stream",
          "name": "stdout",
          "text": [
            "<class 'list'>\n",
            "['nome1', 'nome2', 1, 1.2, True]\n",
            "['nome1', 'outro nome', 1, 1.2, True]\n",
            "['nome1', 'outro nome', 1, 1.2, True, 4567]\n",
            "['nome1', 'outro nome', 1, True, 4567]\n",
            "['nome1', 'outro nome', 1, 4567]\n"
          ]
        }
      ]
    },
    {
      "cell_type": "code",
      "source": [
        "# variável do tipo tupla (tuple)\n",
        "var = ('nome1', 'nome2', 1, 1.2, True)\n",
        "print(type(var))\n",
        "print(var)\n",
        "var[1]=\"outro nome\" # tuplas são imutáveis\n",
        "                    # esse comando gerará erro"
      ],
      "metadata": {
        "colab": {
          "base_uri": "https://localhost:8080/",
          "height": 252
        },
        "id": "uvZOlRYHWNH7",
        "outputId": "d6b9775a-2bfb-4263-c75b-758dfc9519fe"
      },
      "execution_count": 8,
      "outputs": [
        {
          "output_type": "stream",
          "name": "stdout",
          "text": [
            "<class 'tuple'>\n",
            "('nome1', 'nome2', 1, 1.2, True)\n"
          ]
        },
        {
          "output_type": "error",
          "ename": "TypeError",
          "evalue": "ignored",
          "traceback": [
            "\u001b[0;31m---------------------------------------------------------------------------\u001b[0m",
            "\u001b[0;31mTypeError\u001b[0m                                 Traceback (most recent call last)",
            "\u001b[0;32m<ipython-input-8-f25a5b14a7a0>\u001b[0m in \u001b[0;36m<cell line: 5>\u001b[0;34m()\u001b[0m\n\u001b[1;32m      3\u001b[0m \u001b[0mprint\u001b[0m\u001b[0;34m(\u001b[0m\u001b[0mtype\u001b[0m\u001b[0;34m(\u001b[0m\u001b[0mvar\u001b[0m\u001b[0;34m)\u001b[0m\u001b[0;34m)\u001b[0m\u001b[0;34m\u001b[0m\u001b[0;34m\u001b[0m\u001b[0m\n\u001b[1;32m      4\u001b[0m \u001b[0mprint\u001b[0m\u001b[0;34m(\u001b[0m\u001b[0mvar\u001b[0m\u001b[0;34m)\u001b[0m\u001b[0;34m\u001b[0m\u001b[0;34m\u001b[0m\u001b[0m\n\u001b[0;32m----> 5\u001b[0;31m \u001b[0mvar\u001b[0m\u001b[0;34m[\u001b[0m\u001b[0;36m1\u001b[0m\u001b[0;34m]\u001b[0m\u001b[0;34m=\u001b[0m\u001b[0;34m\"outro nome\"\u001b[0m \u001b[0;31m# tuplas são imutáveis\u001b[0m\u001b[0;34m\u001b[0m\u001b[0;34m\u001b[0m\u001b[0m\n\u001b[0m\u001b[1;32m      6\u001b[0m                     \u001b[0;31m# esse comando gerará erro\u001b[0m\u001b[0;34m\u001b[0m\u001b[0;34m\u001b[0m\u001b[0m\n",
            "\u001b[0;31mTypeError\u001b[0m: 'tuple' object does not support item assignment"
          ]
        }
      ]
    },
    {
      "cell_type": "code",
      "source": [
        "# variável do tipo set (set)\n",
        "# Sets são desordenados\n",
        "# Não possuem elementos duplicados, ou seja, cada elemento é único.\n",
        "# Um set em si pode ser modificado, contudo os elementos contidos dentro dele precisam ser de tipos imutáveis.\n",
        "var = {'nome1', 'nome1', 1, True, True}\n",
        "print(type(var))\n",
        "var.add('outro nome')\n",
        "print(var)"
      ],
      "metadata": {
        "colab": {
          "base_uri": "https://localhost:8080/"
        },
        "id": "ffquoFRRXImQ",
        "outputId": "1ea926c0-4b2d-4694-a818-d6bac0d763d8"
      },
      "execution_count": 9,
      "outputs": [
        {
          "output_type": "stream",
          "name": "stdout",
          "text": [
            "<class 'set'>\n",
            "{1, 'outro nome', 'nome1'}\n"
          ]
        }
      ]
    },
    {
      "cell_type": "code",
      "source": [
        "# variável do tipo dicionário (dict)\n",
        "var = {\"nome\": \"italo\", \"idade\": 46, \"endereco\": \"Pres. Prudente\", \"Estado\": \"SP\"}\n",
        "print(type(var))\n",
        "print(var)\n",
        "\n",
        "print(var['idade'])\n",
        "\n",
        "var.update({\"nome\": \"ana\", \"idade\": 43, \"endereco\": \"Pres. Prudente\", \"Estado\": \"SP\"})\n",
        "print(var)\n",
        "\n",
        "print(var['nome'])\n",
        "\n",
        "var['endereco'] = 'Presidente Prudente'\n",
        "print(var)\n",
        "\n",
        "var.pop(\"Estado\")\n",
        "print(var)\n"
      ],
      "metadata": {
        "colab": {
          "base_uri": "https://localhost:8080/"
        },
        "id": "lXg_gX9ZY3G7",
        "outputId": "02cda2bc-e54c-4b6e-84a5-35dcc535a28f"
      },
      "execution_count": 10,
      "outputs": [
        {
          "output_type": "stream",
          "name": "stdout",
          "text": [
            "<class 'dict'>\n",
            "{'nome': 'italo', 'idade': 46, 'endereco': 'Pres. Prudente', 'Estado': 'SP'}\n",
            "46\n",
            "{'nome': 'ana', 'idade': 43, 'endereco': 'Pres. Prudente', 'Estado': 'SP'}\n",
            "ana\n",
            "{'nome': 'ana', 'idade': 43, 'endereco': 'Presidente Prudente', 'Estado': 'SP'}\n",
            "{'nome': 'ana', 'idade': 43, 'endereco': 'Presidente Prudente'}\n"
          ]
        }
      ]
    },
    {
      "cell_type": "markdown",
      "source": [
        "# Operadores"
      ],
      "metadata": {
        "id": "tAW0QpW1TZKr"
      }
    },
    {
      "cell_type": "code",
      "source": [
        "# Adição\n",
        "a=4\n",
        "b=2\n",
        "print(a + b)"
      ],
      "metadata": {
        "colab": {
          "base_uri": "https://localhost:8080/"
        },
        "id": "_F2yCVQiRGvk",
        "outputId": "a51fd9be-f04b-4cf1-a136-79eaa46d197d"
      },
      "execution_count": 11,
      "outputs": [
        {
          "output_type": "stream",
          "name": "stdout",
          "text": [
            "6\n"
          ]
        }
      ]
    },
    {
      "cell_type": "code",
      "source": [
        "# Subração\n",
        "a=4\n",
        "b=2\n",
        "print(a - b)"
      ],
      "metadata": {
        "colab": {
          "base_uri": "https://localhost:8080/"
        },
        "id": "OX4qNXtORGnI",
        "outputId": "83a5cf99-ce6f-48af-adcf-a8005f877c5c"
      },
      "execution_count": 12,
      "outputs": [
        {
          "output_type": "stream",
          "name": "stdout",
          "text": [
            "2\n"
          ]
        }
      ]
    },
    {
      "cell_type": "code",
      "source": [
        "# Multiplicação\n",
        "a=4\n",
        "b=2\n",
        "print(a * b)"
      ],
      "metadata": {
        "colab": {
          "base_uri": "https://localhost:8080/"
        },
        "id": "zk9d2j_kRSG9",
        "outputId": "b84a8955-2a2e-4c7f-dfee-b0cd94fcab8d"
      },
      "execution_count": 13,
      "outputs": [
        {
          "output_type": "stream",
          "name": "stdout",
          "text": [
            "8\n"
          ]
        }
      ]
    },
    {
      "cell_type": "code",
      "source": [
        "# Divisão\n",
        "a=4\n",
        "b=2\n",
        "print(a / b)"
      ],
      "metadata": {
        "colab": {
          "base_uri": "https://localhost:8080/"
        },
        "id": "5oHZnv43RWKw",
        "outputId": "6107bc72-5bce-44c3-86de-ace832bb7abb"
      },
      "execution_count": 14,
      "outputs": [
        {
          "output_type": "stream",
          "name": "stdout",
          "text": [
            "2.0\n"
          ]
        }
      ]
    },
    {
      "cell_type": "code",
      "source": [
        "# Potencialização\n",
        "a=2\n",
        "b=5\n",
        "print(a ** b) # 2*2*2*2*2"
      ],
      "metadata": {
        "colab": {
          "base_uri": "https://localhost:8080/"
        },
        "id": "kSs9BLixRZka",
        "outputId": "17198305-2b65-4087-e876-01d3cc52f397"
      },
      "execution_count": 15,
      "outputs": [
        {
          "output_type": "stream",
          "name": "stdout",
          "text": [
            "32\n"
          ]
        }
      ]
    },
    {
      "cell_type": "code",
      "source": [
        "# Faz a divisão inteira\n",
        "a=5\n",
        "b=2\n",
        "print(a / b) # divisão comum\n",
        "print(a // b)"
      ],
      "metadata": {
        "colab": {
          "base_uri": "https://localhost:8080/"
        },
        "id": "8nkWBrxbRe20",
        "outputId": "cad237e0-65c5-4b9c-ccfa-bd8cbccdef62"
      },
      "execution_count": 16,
      "outputs": [
        {
          "output_type": "stream",
          "name": "stdout",
          "text": [
            "2.5\n",
            "2\n"
          ]
        }
      ]
    },
    {
      "cell_type": "code",
      "source": [
        "# Resto\n",
        "a=5\n",
        "b=2\n",
        "print(a % b)"
      ],
      "metadata": {
        "colab": {
          "base_uri": "https://localhost:8080/"
        },
        "id": "gfU5JartSR78",
        "outputId": "6dfd8d0f-5b2c-4b7e-82c7-6ecee768f191"
      },
      "execution_count": 17,
      "outputs": [
        {
          "output_type": "stream",
          "name": "stdout",
          "text": [
            "1\n"
          ]
        }
      ]
    },
    {
      "cell_type": "code",
      "source": [
        "# operandos\n",
        "a=2\n",
        "b=5\n",
        "c=3\n",
        "calculo1 = a + b * c # 2 + 15\n",
        "calculo2 = (a + b) * c # 7 * 3\n",
        "print(calculo1)\n",
        "print(calculo2)"
      ],
      "metadata": {
        "colab": {
          "base_uri": "https://localhost:8080/"
        },
        "id": "Ko-y9412SmRB",
        "outputId": "aae395f4-854f-4e1e-c109-9919f5716079"
      },
      "execution_count": 18,
      "outputs": [
        {
          "output_type": "stream",
          "name": "stdout",
          "text": [
            "17\n",
            "21\n"
          ]
        }
      ]
    }
  ]
}