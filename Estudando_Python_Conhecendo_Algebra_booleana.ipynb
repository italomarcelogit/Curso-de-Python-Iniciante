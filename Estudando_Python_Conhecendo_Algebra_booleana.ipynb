{
  "nbformat": 4,
  "nbformat_minor": 0,
  "metadata": {
    "colab": {
      "provenance": []
    },
    "kernelspec": {
      "name": "python3",
      "display_name": "Python 3"
    },
    "language_info": {
      "name": "python"
    }
  },
  "cells": [
    {
      "cell_type": "markdown",
      "source": [
        "\n",
        "\n",
        "\n",
        "1.   Identação de código\n",
        "2.   Condição\n",
        "  *   Igual a: a == b\n",
        "  *   Diferente de: a != b\n",
        "  *   Menor que: a < b\n",
        "  *   Menor ou igual a: a <= b\n",
        "  *   Maior que: a > b\n",
        "  *   Maior ou igual a: a >= b\n",
        "3.  Operadores\n",
        "  *  and\n",
        "  *  or\n",
        "\n"
      ],
      "metadata": {
        "id": "N3kM9pdrKtdD"
      }
    },
    {
      "cell_type": "markdown",
      "source": [
        "![image.png](data:image/png;base64,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)"
      ],
      "metadata": {
        "id": "UcSHxXLePWdV"
      }
    },
    {
      "cell_type": "code",
      "execution_count": 1,
      "metadata": {
        "id": "bkaiu1C_9Oqz",
        "colab": {
          "base_uri": "https://localhost:8080/"
        },
        "outputId": "83e2eb88-21ed-4aa1-d4ab-3ce052b82b80"
      },
      "outputs": [
        {
          "output_type": "stream",
          "name": "stdout",
          "text": [
            "93\n"
          ]
        }
      ],
      "source": [
        "a = 27\n",
        "b = 93\n",
        "# condição\n",
        "if a < b:\n",
        "    # exibe se a for menor que b\n",
        "    print(b)"
      ]
    },
    {
      "cell_type": "code",
      "source": [
        "a = 27\n",
        "b = 93\n",
        "if a >= b:\n",
        "    print(a)\n",
        "else:\n",
        "    print(b)"
      ],
      "metadata": {
        "colab": {
          "base_uri": "https://localhost:8080/"
        },
        "id": "yPhU8GSoLRal",
        "outputId": "130de531-e14d-4260-ee57-425b4980148b"
      },
      "execution_count": 2,
      "outputs": [
        {
          "output_type": "stream",
          "name": "stdout",
          "text": [
            "93\n"
          ]
        }
      ]
    },
    {
      "cell_type": "code",
      "source": [
        "a = 27\n",
        "b = 93\n",
        "if a < b:\n",
        "    print(\"a é menor que b\")\n",
        "elif a > b:\n",
        "    print(\"a é maior que b\")\n",
        "else:\n",
        "    print (\"a é igual a b\")"
      ],
      "metadata": {
        "colab": {
          "base_uri": "https://localhost:8080/"
        },
        "id": "bHNNFFDKLiko",
        "outputId": "45d36d05-3f28-44db-aa4e-23a4eacd4fc5"
      },
      "execution_count": 3,
      "outputs": [
        {
          "output_type": "stream",
          "name": "stdout",
          "text": [
            "a é menor que b\n"
          ]
        }
      ]
    },
    {
      "cell_type": "code",
      "source": [
        "a = 16\n",
        "b = 25\n",
        "c = 27\n",
        "if a > b:\n",
        "  if b > c:\n",
        "    print (\"a é maior que b e b é maior que c\")\n",
        "  else:\n",
        "    print (\"a é maior que b e b é menor ou igual ac\")\n",
        "elif a == b:\n",
        "  print (\"a é igual a b\")\n",
        "else:\n",
        "  print (\"a é menor que b\")"
      ],
      "metadata": {
        "colab": {
          "base_uri": "https://localhost:8080/"
        },
        "id": "wgJVqvh9LzY1",
        "outputId": "96954634-b6e2-4f69-ac51-2a7d9cf7a680"
      },
      "execution_count": 4,
      "outputs": [
        {
          "output_type": "stream",
          "name": "stdout",
          "text": [
            "a é menor que b\n"
          ]
        }
      ]
    },
    {
      "cell_type": "code",
      "source": [
        "aluno = 'italo'\n",
        "aprovado = 'ana'\n",
        "\n",
        "if aluno != aprovado:\n",
        "  print(f\"O aluno {aluno} não foi aprovado\")\n",
        "elif aluno == aprovado:\n",
        "  print(f\"O aluno {aluno} foi aprovado\")"
      ],
      "metadata": {
        "colab": {
          "base_uri": "https://localhost:8080/"
        },
        "id": "Px-nVhgrMMbD",
        "outputId": "e7728055-7daf-4f56-9ea4-d3fadc936f4c"
      },
      "execution_count": 5,
      "outputs": [
        {
          "output_type": "stream",
          "name": "stdout",
          "text": [
            "O aluno italo não foi aprovado\n"
          ]
        }
      ]
    },
    {
      "cell_type": "code",
      "source": [
        "print(1 == 2)\n",
        "print(5 < 7)\n",
        "valida= 6 == (18/3) # 6 é igual a (18/3)?\n",
        "print(valida)"
      ],
      "metadata": {
        "colab": {
          "base_uri": "https://localhost:8080/"
        },
        "id": "pKAWkBLKOvTl",
        "outputId": "005f8145-941c-4226-b008-7e0188f080fb"
      },
      "execution_count": 6,
      "outputs": [
        {
          "output_type": "stream",
          "name": "stdout",
          "text": [
            "False\n",
            "True\n",
            "True\n"
          ]
        }
      ]
    },
    {
      "cell_type": "code",
      "source": [
        "a = 23\n",
        "b = 34\n",
        "c = 18\n",
        "if a == 23 and b == 34:\n",
        "    print (a + b)"
      ],
      "metadata": {
        "colab": {
          "base_uri": "https://localhost:8080/"
        },
        "id": "-yaoffcjNvv3",
        "outputId": "9f6d55be-83f1-4a87-afe9-034b4f053b91"
      },
      "execution_count": 7,
      "outputs": [
        {
          "output_type": "stream",
          "name": "stdout",
          "text": [
            "57\n"
          ]
        }
      ]
    },
    {
      "cell_type": "code",
      "source": [
        "a = 23\n",
        "b = 34\n",
        "c = 18\n",
        "if a == 23 and b == 34 and b == c:\n",
        "    print (a + b)\n",
        "else:\n",
        "  print(\"condição não verdadeira\")"
      ],
      "metadata": {
        "colab": {
          "base_uri": "https://localhost:8080/"
        },
        "id": "VrnQfhrsN71m",
        "outputId": "125506bb-9bab-4195-aa94-4dc1a123a56f"
      },
      "execution_count": 8,
      "outputs": [
        {
          "output_type": "stream",
          "name": "stdout",
          "text": [
            "condição não verdadeira\n"
          ]
        }
      ]
    },
    {
      "cell_type": "code",
      "source": [
        "a = 23\n",
        "b = 34\n",
        "c = 18\n",
        "if a == 15 and b == 34 or b == c:\n",
        "    print (a + b)\n",
        "else:\n",
        "  print(\"condição não verdadeira\")"
      ],
      "metadata": {
        "colab": {
          "base_uri": "https://localhost:8080/"
        },
        "id": "-R-miazCOHWE",
        "outputId": "1640b90e-bcf2-4832-c4ba-81533b6316fb"
      },
      "execution_count": 9,
      "outputs": [
        {
          "output_type": "stream",
          "name": "stdout",
          "text": [
            "condição não verdadeira\n"
          ]
        }
      ]
    },
    {
      "cell_type": "code",
      "source": [
        "a = 23\n",
        "b = 34\n",
        "c = 18\n",
        "if a == 23 or b == 34 or b == c:\n",
        "    print (a + b)\n",
        "else:\n",
        "  print(\"condição não verdadeira\")"
      ],
      "metadata": {
        "colab": {
          "base_uri": "https://localhost:8080/"
        },
        "id": "N4Zr3aBiOScC",
        "outputId": "f220f583-59c7-43d9-d696-42c047d48604"
      },
      "execution_count": 10,
      "outputs": [
        {
          "output_type": "stream",
          "name": "stdout",
          "text": [
            "57\n"
          ]
        }
      ]
    }
  ]
}